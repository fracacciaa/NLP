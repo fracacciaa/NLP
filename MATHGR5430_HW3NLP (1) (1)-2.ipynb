{
 "cells": [
  {
   "cell_type": "markdown",
   "metadata": {
    "id": "IPTUOyEyipqI"
   },
   "source": [
    "# Machine Learning for Finance Homework 3 NLP Part"
   ]
  },
  {
   "cell_type": "markdown",
   "metadata": {
    "id": "6DkJtekFoFIH"
   },
   "source": [
    "##1. Basic NLP"
   ]
  },
  {
   "cell_type": "markdown",
   "metadata": {
    "id": "cLCIUtStoK7B"
   },
   "source": [
    "### 1.1 What is NLP?"
   ]
  },
  {
   "cell_type": "markdown",
   "metadata": {
    "id": "TgMbdGDxoNpN"
   },
   "source": [
    "Natural Language Processing broadly refers to the\n",
    "study and development of computer systems that can\n",
    "interpret speech and text as humans naturally speak\n",
    "and type it"
   ]
  },
  {
   "cell_type": "markdown",
   "metadata": {
    "id": "yl6wrKpyoPMq"
   },
   "source": [
    "### 1.2 List three positive use cases of NLP in the field of finance"
   ]
  },
  {
   "cell_type": "markdown",
   "metadata": {
    "id": "H3gKwLrOoWRd"
   },
   "source": [
    "1) Risk Assessments: used to assess credit risk 2) Portfolio Selection and optimization: used for semi-log-optimal portfolio optimization 3) Stock behavior predictions"
   ]
  },
  {
   "cell_type": "markdown",
   "metadata": {
    "id": "lQXLdg-WoWqK"
   },
   "source": [
    "### 1.3 What is tokenization?"
   ]
  },
  {
   "cell_type": "markdown",
   "metadata": {
    "id": "n0_kw4rIor2x"
   },
   "source": [
    "Tokenization is a process of breaking down a piece of text into smaller units called tokens. In the context of Natural Language Processing (NLP), tokenization is a\n",
    "critical step in text pre-processing, which is essential for various downstream NLP tasks such as sentiment analysis, text classification, and machine translation."
   ]
  },
  {
   "cell_type": "markdown",
   "metadata": {
    "id": "QnN0hO8aorTC"
   },
   "source": [
    "### 1.4 What is the difference between stemming and lemmatization?"
   ]
  },
  {
   "cell_type": "markdown",
   "metadata": {
    "id": "emUt2vyEQNVN"
   },
   "source": [
    "Stemming usually refers to a crude heuristic\n",
    "process that chops off the ends of words in the\n",
    "hope of achieving this goal correctly most of the\n",
    "time, and often includes the removal of\n",
    "derivational affixes.\n",
    "• Lemmatization usually refers to doing things\n",
    "properly with the use of a vocabulary and\n",
    "morphological analysis of words, normally aiming\n",
    "to remove inflectional endings only and to return\n",
    "the base or dictionary form of a word, which is\n",
    "known as the lemma.\n",
    "\n",
    "\n",
    "Stemming is the process of reducing a word to its base or root form by removing the suffixes. For example, stemming the word \"running\" would result in \"run\". This process is usually done by using a set of heuristics, such as removing the \"ing\" or \"ed\" suffixes. The goal of stemming is to reduce a word to a common base form so that variations of the same word can be treated as the same word, despite their different forms.\n",
    "\n",
    "Lemmatization, on the other hand, is the process of reducing a word to its base or root form by taking into account the context and morphological analysis of the word. For example, lemmatizing the word \"ran\" would result in \"run\", while lemmatizing the word \"were\" would result in \"be\". The goal of lemmatization is to transform words to their base form or lemma, while preserving the context and meaning of the words in the sentence.\n",
    "\n",
    "In general, lemmatization is more sophisticated than stemming because it takes into account the context and morphological analysis of the word, while stemming is a simpler technique that relies on rules and heuristics to reduce words to their base form. Therefore, lemmatization is often preferred in applications where the accuracy of the word analysis is critical, such as in search engines, machine translation, and sentiment analysis.\n"
   ]
  },
  {
   "cell_type": "markdown",
   "metadata": {
    "id": "9aK0S63dpLXb"
   },
   "source": [
    "### 1.5 What is BERT? What makes it different?"
   ]
  },
  {
   "cell_type": "markdown",
   "metadata": {
    "id": "dg62QO10pO7c"
   },
   "source": [
    "Bidirectional Encoder Representations from Transformers, or BERT.\n",
    "\n",
    "\n",
    "• What Makes BERT Different?\n",
    "\n",
    "– BERT is the first deeply bidirectional, unsupervised language representation,\n",
    "pre-trained using only a plain text corpus\n",
    "\n",
    "– Breakthrough research on transformers: models that process words in relation\n",
    "to all the other words in a sentence, rather than one-by-one in order.\n",
    "\n",
    "– BERT models consider the full context of a word by looking at the words that\n",
    "come before and after it—particularly useful for understanding intended\n",
    "meaning.\n",
    "BERT (Bidirectional Encoder Representations from Transformers) is a deep learning algorithm for natural language processing (NLP) introduced by Google in 2018. What makes BERT different is its ability to understand the context of a word by considering the words that come before and after it in a sentence. This is achieved through bidirectional training, where the model is trained to predict the missing word in a sentence by considering both the left and right contexts of the word. BERT has significantly improved the performance of various NLP tasks and has been used in applications such as chatbots, text summarization, and machine translation."
   ]
  },
  {
   "cell_type": "markdown",
   "metadata": {
    "id": "XJvBs8KRi8NT"
   },
   "source": [
    "## 2. Pre-trained model: FinBERT"
   ]
  },
  {
   "cell_type": "markdown",
   "metadata": {
    "id": "qmccr1qR5dVR"
   },
   "source": [
    "Your hedge fund manager wakes up every morning at 4am and wants a concise summary of the news relevant to his portfolio. He/She wants a quick summary showing the headlines of the news as well as classified sentiment scores.\n",
    "\n",
    "Furthermore, he/she asks you to aggregate this information per stock and summarize the overall tone for this stock"
   ]
  },
  {
   "cell_type": "markdown",
   "metadata": {
    "id": "my7vpEpGGxe0"
   },
   "source": [
    "2.1 Install the transformers package"
   ]
  },
  {
   "cell_type": "code",
   "execution_count": 1,
   "metadata": {
    "id": "N0C4daPHl0Ez"
   },
   "outputs": [],
   "source": [
    "%%capture\n",
    "pip install transformers"
   ]
  },
  {
   "cell_type": "markdown",
   "metadata": {
    "id": "Blt_iC8CGuHC"
   },
   "source": [
    "2.2 import the requests package and other libraries you might need"
   ]
  },
  {
   "cell_type": "code",
   "execution_count": 2,
   "metadata": {
    "id": "ol17162mosH6"
   },
   "outputs": [],
   "source": [
    "import transformers,requests,json,numpy as np"
   ]
  },
  {
   "cell_type": "markdown",
   "metadata": {
    "id": "9TjSYXmiHlRk"
   },
   "source": [
    "The following dictionary represents our portfolio of stocks using the following logic (key, value) = (holding-name, branch), where $$branch ∈ \\{\"business\", \"entertainment\", \"general\", \"health\", \"science\", \"sports\", \"technology\"\\}$$\n",
    "following the NewsAPI documentation.\n",
    "\n",
    "To save you some time, a typical request is built similar to:\n",
    "\"https://newsapi.org/v2/top-headlines?country=us&q=*KEYWORD*&category=*CATEGORY*&sortBy=top&apiKey=*YOURKEYHERE*\".\n",
    "\n",
    "For example: \n",
    "\n",
    "https://newsapi.org/v2/top-headlines?country=us&q=apple&category=technology&sortBy=top&apiKey=123ab45c687d...\n",
    "\n",
    "\n",
    "\n",
    "\n",
    "\n",
    "Please see:\n",
    "\n",
    "\n",
    "1.   https://newsapi.org/docs (To construct your HTTP GET-requests)\n",
    "2.   https://newsapi.org/register (To obtain your API key)\n",
    "\n",
    "\n"
   ]
  },
  {
   "cell_type": "markdown",
   "metadata": {
    "id": "isJZn8iQpWLM"
   },
   "source": [
    "Say our portfolio consists of these four assets:"
   ]
  },
  {
   "cell_type": "markdown",
   "metadata": {
    "id": "CUn0T-ZYSN6Y"
   },
   "source": [
    "#600d91ddd8ca4c12976d79ef778ddc84"
   ]
  },
  {
   "cell_type": "code",
   "execution_count": 3,
   "metadata": {
    "id": "pEDZ7HMGw_vO"
   },
   "outputs": [],
   "source": [
    "portfolio = dict({\"apple\": 'technology', \"tesla\": 'business', \"amazon\": 'technology', \"s&p500\": 'business'})\n",
    "\n",
    "# we are going to use the S&P500 to get a general idea of the sentiment of news in the US market"
   ]
  },
  {
   "cell_type": "markdown",
   "metadata": {
    "id": "unGk5HE8KCNZ"
   },
   "source": [
    "2.3 Write the function fetch_news() that returns a dictionary that stores the name of the holding as key (analogous to our stock portfolio) and as value an array that holds the strings of news"
   ]
  },
  {
   "cell_type": "code",
   "execution_count": 4,
   "metadata": {
    "id": "ohgxARP0wf7W"
   },
   "outputs": [],
   "source": [
    "import requests\n",
    "\n",
    "def fetch_news():\n",
    "    news_dict = {}\n",
    "    for name,sector in portfolio.items():\n",
    "      response = requests.get(\"https://newsapi.org/v2/top-headlines?country=us&q=\"+name+\"&category=\"+sector+\"&sortBy=top&apiKey=f5c36c278ec549dcab246a1815afba08\")\n",
    "\n",
    "      response_json = response.json()\n",
    "      articles = [article[\"title\"] for article in response_json[\"articles\"]]\n",
    "      news_dict[name] = articles\n",
    "\n",
    "    return news_dict"
   ]
  },
  {
   "cell_type": "code",
   "execution_count": 5,
   "metadata": {
    "colab": {
     "base_uri": "https://localhost:8080/"
    },
    "id": "qOZASp8esuca",
    "outputId": "f5bcdf3d-4319-49f4-db25-dde17108143e"
   },
   "outputs": [
    {
     "data": {
      "text/plain": [
       "{'apple': ['New Apple Leak Reveals iPhone 15 Design Surprise - Forbes',\n",
       "  'Poll: Which new feature do you want to see in iOS 17 and iPadOS 17? - 9to5Mac',\n",
       "  'Three Products We Might See at WWDC 2023 - MacRumors',\n",
       "  \"Here's why Apple should still make a dedicated Passwords app (and a workaround) - 9to5Mac\",\n",
       "  'New York Phil to launch big Apple app - Slippedisc - Slipped Disc',\n",
       "  'Apple warning tells millions how far to keep iPhone from chest – it’s never worth risk and further than you... - The US Sun',\n",
       "  'Apple MR Headset Delayed Again? Analysts See More Hurdles - Sony Group (NYSE:SONY), Apple (NASDAQ:AAPL) - Benzinga'],\n",
       " 'tesla': ['Court rules Elon Musk broke federal labor law with 2018 tweet | Engadget - Engadget',\n",
       "  \"Tesla Shares 'Crash Test' Video Of Cybertruck, Provoking Amusing Response From Twitter: 'Just Like The Truck! It Never Arrives' - Yahoo Finance\"],\n",
       " 'amazon': [\"The newest iPad Mini and Google's Pixel 6A top our favorite deals of the week - The Verge\"],\n",
       " 's&p500': ['Celebrities Complain on Final Day of Free Twitter Blue Checkmarks - TMZ',\n",
       "  'If You Had $1000 Right Now, Would You Buy Shiba Inu (SHIB) Or Dogecoin? - Benzinga',\n",
       "  \"April fools? The Twitter blue check apocalypse that wasn't - POLITICO\",\n",
       "  'Top Crypto Analyst Says Bitcoin (BTC) ‘On the Cusp’ of Making History - The Daily Hodl',\n",
       "  'Court rules Elon Musk broke federal labor law with 2018 tweet | Engadget - Engadget',\n",
       "  'Starbucks fired the employee responsible for igniting the Starbucks Workers United union campaign - CNBC',\n",
       "  \"Tesla Shares 'Crash Test' Video Of Cybertruck, Provoking Amusing Response From Twitter: 'Just Like The Truck! It Never Arrives' - Yahoo Finance\",\n",
       "  \"10 grocery items most likely to cause food poisoning: 'Big surprise' - New York Post \",\n",
       "  'US Government Plans to Sell Over 41000 Bitcoins Confiscated from Silk Road Hacker – Bitcoin News - Bitcoin News',\n",
       "  'Execs at Austal, which builds LCSs for U.S. Navy, indicted for fraud - Defense News',\n",
       "  'US Virgin Islands subpoenas four top businessmen in Epstein banking inquiry - The Guardian US',\n",
       "  \"Baghdad and KRG close to deal to resume Iraq's northern oil exports - Reuters\",\n",
       "  \"Massachusetts girl orders more than $3K in Amazon items from mom's phone - WCVB Boston\",\n",
       "  'Charles Schwab Loses $47 Billion in Market Value in One Month - TheStreet',\n",
       "  \"JPMorgan's Bob Michele Issues Dire Warning On Rally Of Risk Assets, Says Recession Is Inevitable - Yahoo Finance\",\n",
       "  \"Tech experts slam letter calling for AI pause that cited their research: 'Fearmongering' - Fox Business\",\n",
       "  'Binance, NBA star Jimmy Butler, and crypto influencers hit with $1 billion suit for promoting unregistered securities - Fortune',\n",
       "  'The return of Bob Iger: Disney CEO makes moves that should please investors - CNBC',\n",
       "  'Coming online: Plant Vogtle unit generates electricity - WJXT News4JAX ',\n",
       "  \"Donald Trump's NFT trading cards jumped in value to almost $1,700 after Manhattan indictment - Yahoo! Voices\"]}"
      ]
     },
     "execution_count": 5,
     "metadata": {},
     "output_type": "execute_result"
    }
   ],
   "source": [
    "fetch_news()"
   ]
  },
  {
   "cell_type": "markdown",
   "metadata": {
    "id": "T8YUtRDvKo9I"
   },
   "source": [
    "2.4 Following the lecture notes, using the pre-trained Finbert Classifier, classify the news fetched in 2.3 into neutral, positive or negative by modifying the below code:"
   ]
  },
  {
   "cell_type": "markdown",
   "metadata": {
    "id": "9w_JY0czL6x6"
   },
   "source": [
    "2.5 Last but not least, find the total tone for each element in our portfolio, where:\n",
    "\n",
    "\n",
    "*   neutral=0\n",
    "*   positive=+1\n",
    "*   negative=-1"
   ]
  },
  {
   "cell_type": "code",
   "execution_count": null,
   "metadata": {
    "colab": {
     "base_uri": "https://localhost:8080/",
     "height": 182,
     "referenced_widgets": [
      "16cd2e8311be484296c0829ead8532d8",
      "d8ed14626d424eeb9e497d8ba52ee3da",
      "77c73646a9ac46129ea0292c4789fe7e",
      "bf5f943b8013464a9d4b652dc46ef694",
      "dc11938051d94e3eac9b354ef37ef7dc",
      "c68276b9f10249ddabd45a595e97f8a1",
      "47896471577a4db2819c2de864c92e69",
      "69da3ad5f2ac412d8c5452941dc79844",
      "80e0a8d8101b4160801929a5fc24c8aa",
      "766f4a1efa364b8ea02e426b39faa1da",
      "c04bd6631dec4fde89a5cb1d1ff7d671",
      "54c5193213d24dd8b414f9720ca200f6",
      "8a7aa1fcfa4a43528537760cef2a649a",
      "0cdc0f09e029459987ab3503ae045538",
      "6a1745c8dc7b4da99e99ce6ed15bc30d",
      "58464cef46c840669d684f56a64e5204",
      "e0814188de3d4069ae68bf46bb3f6609",
      "7684c6cd650d47f5937ae7aae8569b6c",
      "ef53794a859c44c194bddc66ac07467b",
      "e648db5e84b0447b90d9403c2900f456",
      "8ad0753c59bb4a19a947123c4db177b2",
      "ee72df9cc9e14b5a90dace09b2de14e4",
      "2385d995d3e64d4a90d37d1b5b55fa5a",
      "76299b81a326438bad5dd38e2466312a",
      "0cdf14a6ac56493f92c360f8a206e42a",
      "82393c80462840b68a05086be51b147e",
      "3745d0b20a2748469845dde897d92661",
      "28d8b45314ed47358bbc31b056132d32",
      "08f896484bfd4fcdbd60fe3d2b41acf3",
      "dc762cfab4974ea8a503f247e8bc6811",
      "d4718d176f984b269a41099cdc3dcb1e",
      "56fb1414aaa94c8f9d783a9f3f2a3cb1",
      "9daaaf3ef63b4f188c469f48f15ee73d"
     ]
    },
    "id": "0_M89j0ELHT0",
    "outputId": "4aab2800-e9b3-4e01-bc9d-e4529de9c211"
   },
   "outputs": [],
   "source": [
    "# BUILD YOUR CODE ON TOP OF THIS EXAMPLE CODE IN THE CELL BELOW\n",
    "from transformers import BertTokenizer, BertForSequenceClassification\n",
    "import numpy as np\n",
    "\n",
    "finbert = BertForSequenceClassification.from_pretrained('yiyanghkust/finbert-tone',num_labels=3)\n",
    "tokenizer = BertTokenizer.from_pretrained('yiyanghkust/finbert-tone')\n",
    "\n",
    "sentences = [\"there is a shortage of capital, and we need extra financing\", \n",
    "             \"growth is strong and we have plenty of liquidity\", \n",
    "             \"there are doubts about our finances\", \n",
    "             \"profits are flat\"]\n",
    "\n",
    "inputs = tokenizer(sentences, return_tensors=\"pt\", padding=True)\n",
    "outputs = finbert(**inputs)[0]\n",
    "\n",
    "labels = {0:'neutral', 1:'positive',2:'negative'}\n",
    "for idx, sent in enumerate(sentences):\n",
    "    print(sent, '----', labels[np.argmax(outputs.detach().numpy()[idx])])\n",
    "  "
   ]
  },
  {
   "cell_type": "code",
   "execution_count": null,
   "metadata": {
    "colab": {
     "base_uri": "https://localhost:8080/"
    },
    "id": "DGky3pfYmnVt",
    "outputId": "c1e995b6-f247-4f92-a1ef-085aadcd17e3"
   },
   "outputs": [],
   "source": [
    "# Your code here\n",
    "from transformers import BertTokenizer, BertForSequenceClassification\n",
    "import numpy as np\n",
    "\n",
    "finbert = BertForSequenceClassification.from_pretrained('yiyanghkust/finbert-tone',num_labels=3)\n",
    "tokenizer = BertTokenizer.from_pretrained('yiyanghkust/finbert-tone')\n",
    "\n",
    "def sentimentsss(sentancesss):\n",
    "  scoress=[]\n",
    "  inputs = tokenizer(sentancesss, return_tensors=\"pt\", padding=True)\n",
    "  outputs = finbert(**inputs)[0]\n",
    "  labels = {0:'neutral', 1:'positive',2:'negative'}\n",
    "  scores_sentiment={0:0,1:1,2:-1}\n",
    "  for idx, sent in enumerate(sentancesss):\n",
    "    print(sent, '----', labels[np.argmax(outputs.detach().numpy()[idx])])\n",
    "    scoress.append(scores_sentiment[np.argmax(outputs.detach().numpy()[idx])])\n",
    "\n",
    "  return scoress\n",
    "\n",
    "for i in fetch_news():\n",
    "  print('\\n')\n",
    "  print('Company: ')\n",
    "  print(i)\n",
    "  print('\\n')\n",
    "  a=sentimentsss(fetch_news()[i])\n",
    "  print('\\n')\n",
    "  print('total tone score: ')\n",
    "  print(sum(a))\n",
    "  print('average tone of the stock')\n",
    "  print(sum(a)/len(a))"
   ]
  },
  {
   "cell_type": "markdown",
   "metadata": {
    "id": "xhChHcH1n4xJ"
   },
   "source": [
    "2.6 What do you find from the results?"
   ]
  },
  {
   "cell_type": "markdown",
   "metadata": {
    "id": "7Lk0k9D7pfwl"
   },
   "source": [
    "We find that the bert model classifies the headlines accurately although, we would need a custom corpus if we have to traverse through financial documents like information released by the Fed etc. Overall, the score depends on the number of differenct sentances and specific words, eg: violating is considered as negative ec.\n",
    "\n",
    "We find the average score for each stock so as to have a comparable measure.\n",
    "The avg score is the total score by the len of the list of sentances because wen we look at data in a cummulative way which is unwighted or equillay weighted this helps us."
   ]
  }
 ],
 "metadata": {
  "colab": {
   "provenance": []
  },
  "kernelspec": {
   "display_name": "Python 3 (ipykernel)",
   "language": "python",
   "name": "python3"
  },
  "language_info": {
   "codemirror_mode": {
    "name": "ipython",
    "version": 3
   },
   "file_extension": ".py",
   "mimetype": "text/x-python",
   "name": "python",
   "nbconvert_exporter": "python",
   "pygments_lexer": "ipython3",
   "version": "3.9.12"
  },
  "widgets": {
   "application/vnd.jupyter.widget-state+json": {
    "08f896484bfd4fcdbd60fe3d2b41acf3": {
     "model_module": "@jupyter-widgets/controls",
     "model_module_version": "1.5.0",
     "model_name": "DescriptionStyleModel",
     "state": {
      "_model_module": "@jupyter-widgets/controls",
      "_model_module_version": "1.5.0",
      "_model_name": "DescriptionStyleModel",
      "_view_count": null,
      "_view_module": "@jupyter-widgets/base",
      "_view_module_version": "1.2.0",
      "_view_name": "StyleView",
      "description_width": ""
     }
    },
    "0cdc0f09e029459987ab3503ae045538": {
     "model_module": "@jupyter-widgets/controls",
     "model_module_version": "1.5.0",
     "model_name": "FloatProgressModel",
     "state": {
      "_dom_classes": [],
      "_model_module": "@jupyter-widgets/controls",
      "_model_module_version": "1.5.0",
      "_model_name": "FloatProgressModel",
      "_view_count": null,
      "_view_module": "@jupyter-widgets/controls",
      "_view_module_version": "1.5.0",
      "_view_name": "ProgressView",
      "bar_style": "success",
      "description": "",
      "description_tooltip": null,
      "layout": "IPY_MODEL_ef53794a859c44c194bddc66ac07467b",
      "max": 439101405,
      "min": 0,
      "orientation": "horizontal",
      "style": "IPY_MODEL_e648db5e84b0447b90d9403c2900f456",
      "value": 439101405
     }
    },
    "0cdf14a6ac56493f92c360f8a206e42a": {
     "model_module": "@jupyter-widgets/controls",
     "model_module_version": "1.5.0",
     "model_name": "FloatProgressModel",
     "state": {
      "_dom_classes": [],
      "_model_module": "@jupyter-widgets/controls",
      "_model_module_version": "1.5.0",
      "_model_name": "FloatProgressModel",
      "_view_count": null,
      "_view_module": "@jupyter-widgets/controls",
      "_view_module_version": "1.5.0",
      "_view_name": "ProgressView",
      "bar_style": "success",
      "description": "",
      "description_tooltip": null,
      "layout": "IPY_MODEL_dc762cfab4974ea8a503f247e8bc6811",
      "max": 226122,
      "min": 0,
      "orientation": "horizontal",
      "style": "IPY_MODEL_d4718d176f984b269a41099cdc3dcb1e",
      "value": 226122
     }
    },
    "16cd2e8311be484296c0829ead8532d8": {
     "model_module": "@jupyter-widgets/controls",
     "model_module_version": "1.5.0",
     "model_name": "HBoxModel",
     "state": {
      "_dom_classes": [],
      "_model_module": "@jupyter-widgets/controls",
      "_model_module_version": "1.5.0",
      "_model_name": "HBoxModel",
      "_view_count": null,
      "_view_module": "@jupyter-widgets/controls",
      "_view_module_version": "1.5.0",
      "_view_name": "HBoxView",
      "box_style": "",
      "children": [
       "IPY_MODEL_d8ed14626d424eeb9e497d8ba52ee3da",
       "IPY_MODEL_77c73646a9ac46129ea0292c4789fe7e",
       "IPY_MODEL_bf5f943b8013464a9d4b652dc46ef694"
      ],
      "layout": "IPY_MODEL_dc11938051d94e3eac9b354ef37ef7dc"
     }
    },
    "2385d995d3e64d4a90d37d1b5b55fa5a": {
     "model_module": "@jupyter-widgets/controls",
     "model_module_version": "1.5.0",
     "model_name": "HBoxModel",
     "state": {
      "_dom_classes": [],
      "_model_module": "@jupyter-widgets/controls",
      "_model_module_version": "1.5.0",
      "_model_name": "HBoxModel",
      "_view_count": null,
      "_view_module": "@jupyter-widgets/controls",
      "_view_module_version": "1.5.0",
      "_view_name": "HBoxView",
      "box_style": "",
      "children": [
       "IPY_MODEL_76299b81a326438bad5dd38e2466312a",
       "IPY_MODEL_0cdf14a6ac56493f92c360f8a206e42a",
       "IPY_MODEL_82393c80462840b68a05086be51b147e"
      ],
      "layout": "IPY_MODEL_3745d0b20a2748469845dde897d92661"
     }
    },
    "28d8b45314ed47358bbc31b056132d32": {
     "model_module": "@jupyter-widgets/base",
     "model_module_version": "1.2.0",
     "model_name": "LayoutModel",
     "state": {
      "_model_module": "@jupyter-widgets/base",
      "_model_module_version": "1.2.0",
      "_model_name": "LayoutModel",
      "_view_count": null,
      "_view_module": "@jupyter-widgets/base",
      "_view_module_version": "1.2.0",
      "_view_name": "LayoutView",
      "align_content": null,
      "align_items": null,
      "align_self": null,
      "border": null,
      "bottom": null,
      "display": null,
      "flex": null,
      "flex_flow": null,
      "grid_area": null,
      "grid_auto_columns": null,
      "grid_auto_flow": null,
      "grid_auto_rows": null,
      "grid_column": null,
      "grid_gap": null,
      "grid_row": null,
      "grid_template_areas": null,
      "grid_template_columns": null,
      "grid_template_rows": null,
      "height": null,
      "justify_content": null,
      "justify_items": null,
      "left": null,
      "margin": null,
      "max_height": null,
      "max_width": null,
      "min_height": null,
      "min_width": null,
      "object_fit": null,
      "object_position": null,
      "order": null,
      "overflow": null,
      "overflow_x": null,
      "overflow_y": null,
      "padding": null,
      "right": null,
      "top": null,
      "visibility": null,
      "width": null
     }
    },
    "3745d0b20a2748469845dde897d92661": {
     "model_module": "@jupyter-widgets/base",
     "model_module_version": "1.2.0",
     "model_name": "LayoutModel",
     "state": {
      "_model_module": "@jupyter-widgets/base",
      "_model_module_version": "1.2.0",
      "_model_name": "LayoutModel",
      "_view_count": null,
      "_view_module": "@jupyter-widgets/base",
      "_view_module_version": "1.2.0",
      "_view_name": "LayoutView",
      "align_content": null,
      "align_items": null,
      "align_self": null,
      "border": null,
      "bottom": null,
      "display": null,
      "flex": null,
      "flex_flow": null,
      "grid_area": null,
      "grid_auto_columns": null,
      "grid_auto_flow": null,
      "grid_auto_rows": null,
      "grid_column": null,
      "grid_gap": null,
      "grid_row": null,
      "grid_template_areas": null,
      "grid_template_columns": null,
      "grid_template_rows": null,
      "height": null,
      "justify_content": null,
      "justify_items": null,
      "left": null,
      "margin": null,
      "max_height": null,
      "max_width": null,
      "min_height": null,
      "min_width": null,
      "object_fit": null,
      "object_position": null,
      "order": null,
      "overflow": null,
      "overflow_x": null,
      "overflow_y": null,
      "padding": null,
      "right": null,
      "top": null,
      "visibility": null,
      "width": null
     }
    },
    "47896471577a4db2819c2de864c92e69": {
     "model_module": "@jupyter-widgets/controls",
     "model_module_version": "1.5.0",
     "model_name": "DescriptionStyleModel",
     "state": {
      "_model_module": "@jupyter-widgets/controls",
      "_model_module_version": "1.5.0",
      "_model_name": "DescriptionStyleModel",
      "_view_count": null,
      "_view_module": "@jupyter-widgets/base",
      "_view_module_version": "1.2.0",
      "_view_name": "StyleView",
      "description_width": ""
     }
    },
    "54c5193213d24dd8b414f9720ca200f6": {
     "model_module": "@jupyter-widgets/controls",
     "model_module_version": "1.5.0",
     "model_name": "HBoxModel",
     "state": {
      "_dom_classes": [],
      "_model_module": "@jupyter-widgets/controls",
      "_model_module_version": "1.5.0",
      "_model_name": "HBoxModel",
      "_view_count": null,
      "_view_module": "@jupyter-widgets/controls",
      "_view_module_version": "1.5.0",
      "_view_name": "HBoxView",
      "box_style": "",
      "children": [
       "IPY_MODEL_8a7aa1fcfa4a43528537760cef2a649a",
       "IPY_MODEL_0cdc0f09e029459987ab3503ae045538",
       "IPY_MODEL_6a1745c8dc7b4da99e99ce6ed15bc30d"
      ],
      "layout": "IPY_MODEL_58464cef46c840669d684f56a64e5204"
     }
    },
    "56fb1414aaa94c8f9d783a9f3f2a3cb1": {
     "model_module": "@jupyter-widgets/base",
     "model_module_version": "1.2.0",
     "model_name": "LayoutModel",
     "state": {
      "_model_module": "@jupyter-widgets/base",
      "_model_module_version": "1.2.0",
      "_model_name": "LayoutModel",
      "_view_count": null,
      "_view_module": "@jupyter-widgets/base",
      "_view_module_version": "1.2.0",
      "_view_name": "LayoutView",
      "align_content": null,
      "align_items": null,
      "align_self": null,
      "border": null,
      "bottom": null,
      "display": null,
      "flex": null,
      "flex_flow": null,
      "grid_area": null,
      "grid_auto_columns": null,
      "grid_auto_flow": null,
      "grid_auto_rows": null,
      "grid_column": null,
      "grid_gap": null,
      "grid_row": null,
      "grid_template_areas": null,
      "grid_template_columns": null,
      "grid_template_rows": null,
      "height": null,
      "justify_content": null,
      "justify_items": null,
      "left": null,
      "margin": null,
      "max_height": null,
      "max_width": null,
      "min_height": null,
      "min_width": null,
      "object_fit": null,
      "object_position": null,
      "order": null,
      "overflow": null,
      "overflow_x": null,
      "overflow_y": null,
      "padding": null,
      "right": null,
      "top": null,
      "visibility": null,
      "width": null
     }
    },
    "58464cef46c840669d684f56a64e5204": {
     "model_module": "@jupyter-widgets/base",
     "model_module_version": "1.2.0",
     "model_name": "LayoutModel",
     "state": {
      "_model_module": "@jupyter-widgets/base",
      "_model_module_version": "1.2.0",
      "_model_name": "LayoutModel",
      "_view_count": null,
      "_view_module": "@jupyter-widgets/base",
      "_view_module_version": "1.2.0",
      "_view_name": "LayoutView",
      "align_content": null,
      "align_items": null,
      "align_self": null,
      "border": null,
      "bottom": null,
      "display": null,
      "flex": null,
      "flex_flow": null,
      "grid_area": null,
      "grid_auto_columns": null,
      "grid_auto_flow": null,
      "grid_auto_rows": null,
      "grid_column": null,
      "grid_gap": null,
      "grid_row": null,
      "grid_template_areas": null,
      "grid_template_columns": null,
      "grid_template_rows": null,
      "height": null,
      "justify_content": null,
      "justify_items": null,
      "left": null,
      "margin": null,
      "max_height": null,
      "max_width": null,
      "min_height": null,
      "min_width": null,
      "object_fit": null,
      "object_position": null,
      "order": null,
      "overflow": null,
      "overflow_x": null,
      "overflow_y": null,
      "padding": null,
      "right": null,
      "top": null,
      "visibility": null,
      "width": null
     }
    },
    "69da3ad5f2ac412d8c5452941dc79844": {
     "model_module": "@jupyter-widgets/base",
     "model_module_version": "1.2.0",
     "model_name": "LayoutModel",
     "state": {
      "_model_module": "@jupyter-widgets/base",
      "_model_module_version": "1.2.0",
      "_model_name": "LayoutModel",
      "_view_count": null,
      "_view_module": "@jupyter-widgets/base",
      "_view_module_version": "1.2.0",
      "_view_name": "LayoutView",
      "align_content": null,
      "align_items": null,
      "align_self": null,
      "border": null,
      "bottom": null,
      "display": null,
      "flex": null,
      "flex_flow": null,
      "grid_area": null,
      "grid_auto_columns": null,
      "grid_auto_flow": null,
      "grid_auto_rows": null,
      "grid_column": null,
      "grid_gap": null,
      "grid_row": null,
      "grid_template_areas": null,
      "grid_template_columns": null,
      "grid_template_rows": null,
      "height": null,
      "justify_content": null,
      "justify_items": null,
      "left": null,
      "margin": null,
      "max_height": null,
      "max_width": null,
      "min_height": null,
      "min_width": null,
      "object_fit": null,
      "object_position": null,
      "order": null,
      "overflow": null,
      "overflow_x": null,
      "overflow_y": null,
      "padding": null,
      "right": null,
      "top": null,
      "visibility": null,
      "width": null
     }
    },
    "6a1745c8dc7b4da99e99ce6ed15bc30d": {
     "model_module": "@jupyter-widgets/controls",
     "model_module_version": "1.5.0",
     "model_name": "HTMLModel",
     "state": {
      "_dom_classes": [],
      "_model_module": "@jupyter-widgets/controls",
      "_model_module_version": "1.5.0",
      "_model_name": "HTMLModel",
      "_view_count": null,
      "_view_module": "@jupyter-widgets/controls",
      "_view_module_version": "1.5.0",
      "_view_name": "HTMLView",
      "description": "",
      "description_tooltip": null,
      "layout": "IPY_MODEL_8ad0753c59bb4a19a947123c4db177b2",
      "placeholder": "​",
      "style": "IPY_MODEL_ee72df9cc9e14b5a90dace09b2de14e4",
      "value": " 439M/439M [00:02&lt;00:00, 148MB/s]"
     }
    },
    "76299b81a326438bad5dd38e2466312a": {
     "model_module": "@jupyter-widgets/controls",
     "model_module_version": "1.5.0",
     "model_name": "HTMLModel",
     "state": {
      "_dom_classes": [],
      "_model_module": "@jupyter-widgets/controls",
      "_model_module_version": "1.5.0",
      "_model_name": "HTMLModel",
      "_view_count": null,
      "_view_module": "@jupyter-widgets/controls",
      "_view_module_version": "1.5.0",
      "_view_name": "HTMLView",
      "description": "",
      "description_tooltip": null,
      "layout": "IPY_MODEL_28d8b45314ed47358bbc31b056132d32",
      "placeholder": "​",
      "style": "IPY_MODEL_08f896484bfd4fcdbd60fe3d2b41acf3",
      "value": "Downloading (…)solve/main/vocab.txt: 100%"
     }
    },
    "766f4a1efa364b8ea02e426b39faa1da": {
     "model_module": "@jupyter-widgets/base",
     "model_module_version": "1.2.0",
     "model_name": "LayoutModel",
     "state": {
      "_model_module": "@jupyter-widgets/base",
      "_model_module_version": "1.2.0",
      "_model_name": "LayoutModel",
      "_view_count": null,
      "_view_module": "@jupyter-widgets/base",
      "_view_module_version": "1.2.0",
      "_view_name": "LayoutView",
      "align_content": null,
      "align_items": null,
      "align_self": null,
      "border": null,
      "bottom": null,
      "display": null,
      "flex": null,
      "flex_flow": null,
      "grid_area": null,
      "grid_auto_columns": null,
      "grid_auto_flow": null,
      "grid_auto_rows": null,
      "grid_column": null,
      "grid_gap": null,
      "grid_row": null,
      "grid_template_areas": null,
      "grid_template_columns": null,
      "grid_template_rows": null,
      "height": null,
      "justify_content": null,
      "justify_items": null,
      "left": null,
      "margin": null,
      "max_height": null,
      "max_width": null,
      "min_height": null,
      "min_width": null,
      "object_fit": null,
      "object_position": null,
      "order": null,
      "overflow": null,
      "overflow_x": null,
      "overflow_y": null,
      "padding": null,
      "right": null,
      "top": null,
      "visibility": null,
      "width": null
     }
    },
    "7684c6cd650d47f5937ae7aae8569b6c": {
     "model_module": "@jupyter-widgets/controls",
     "model_module_version": "1.5.0",
     "model_name": "DescriptionStyleModel",
     "state": {
      "_model_module": "@jupyter-widgets/controls",
      "_model_module_version": "1.5.0",
      "_model_name": "DescriptionStyleModel",
      "_view_count": null,
      "_view_module": "@jupyter-widgets/base",
      "_view_module_version": "1.2.0",
      "_view_name": "StyleView",
      "description_width": ""
     }
    },
    "77c73646a9ac46129ea0292c4789fe7e": {
     "model_module": "@jupyter-widgets/controls",
     "model_module_version": "1.5.0",
     "model_name": "FloatProgressModel",
     "state": {
      "_dom_classes": [],
      "_model_module": "@jupyter-widgets/controls",
      "_model_module_version": "1.5.0",
      "_model_name": "FloatProgressModel",
      "_view_count": null,
      "_view_module": "@jupyter-widgets/controls",
      "_view_module_version": "1.5.0",
      "_view_name": "ProgressView",
      "bar_style": "success",
      "description": "",
      "description_tooltip": null,
      "layout": "IPY_MODEL_69da3ad5f2ac412d8c5452941dc79844",
      "max": 533,
      "min": 0,
      "orientation": "horizontal",
      "style": "IPY_MODEL_80e0a8d8101b4160801929a5fc24c8aa",
      "value": 533
     }
    },
    "80e0a8d8101b4160801929a5fc24c8aa": {
     "model_module": "@jupyter-widgets/controls",
     "model_module_version": "1.5.0",
     "model_name": "ProgressStyleModel",
     "state": {
      "_model_module": "@jupyter-widgets/controls",
      "_model_module_version": "1.5.0",
      "_model_name": "ProgressStyleModel",
      "_view_count": null,
      "_view_module": "@jupyter-widgets/base",
      "_view_module_version": "1.2.0",
      "_view_name": "StyleView",
      "bar_color": null,
      "description_width": ""
     }
    },
    "82393c80462840b68a05086be51b147e": {
     "model_module": "@jupyter-widgets/controls",
     "model_module_version": "1.5.0",
     "model_name": "HTMLModel",
     "state": {
      "_dom_classes": [],
      "_model_module": "@jupyter-widgets/controls",
      "_model_module_version": "1.5.0",
      "_model_name": "HTMLModel",
      "_view_count": null,
      "_view_module": "@jupyter-widgets/controls",
      "_view_module_version": "1.5.0",
      "_view_name": "HTMLView",
      "description": "",
      "description_tooltip": null,
      "layout": "IPY_MODEL_56fb1414aaa94c8f9d783a9f3f2a3cb1",
      "placeholder": "​",
      "style": "IPY_MODEL_9daaaf3ef63b4f188c469f48f15ee73d",
      "value": " 226k/226k [00:00&lt;00:00, 1.13MB/s]"
     }
    },
    "8a7aa1fcfa4a43528537760cef2a649a": {
     "model_module": "@jupyter-widgets/controls",
     "model_module_version": "1.5.0",
     "model_name": "HTMLModel",
     "state": {
      "_dom_classes": [],
      "_model_module": "@jupyter-widgets/controls",
      "_model_module_version": "1.5.0",
      "_model_name": "HTMLModel",
      "_view_count": null,
      "_view_module": "@jupyter-widgets/controls",
      "_view_module_version": "1.5.0",
      "_view_name": "HTMLView",
      "description": "",
      "description_tooltip": null,
      "layout": "IPY_MODEL_e0814188de3d4069ae68bf46bb3f6609",
      "placeholder": "​",
      "style": "IPY_MODEL_7684c6cd650d47f5937ae7aae8569b6c",
      "value": "Downloading pytorch_model.bin: 100%"
     }
    },
    "8ad0753c59bb4a19a947123c4db177b2": {
     "model_module": "@jupyter-widgets/base",
     "model_module_version": "1.2.0",
     "model_name": "LayoutModel",
     "state": {
      "_model_module": "@jupyter-widgets/base",
      "_model_module_version": "1.2.0",
      "_model_name": "LayoutModel",
      "_view_count": null,
      "_view_module": "@jupyter-widgets/base",
      "_view_module_version": "1.2.0",
      "_view_name": "LayoutView",
      "align_content": null,
      "align_items": null,
      "align_self": null,
      "border": null,
      "bottom": null,
      "display": null,
      "flex": null,
      "flex_flow": null,
      "grid_area": null,
      "grid_auto_columns": null,
      "grid_auto_flow": null,
      "grid_auto_rows": null,
      "grid_column": null,
      "grid_gap": null,
      "grid_row": null,
      "grid_template_areas": null,
      "grid_template_columns": null,
      "grid_template_rows": null,
      "height": null,
      "justify_content": null,
      "justify_items": null,
      "left": null,
      "margin": null,
      "max_height": null,
      "max_width": null,
      "min_height": null,
      "min_width": null,
      "object_fit": null,
      "object_position": null,
      "order": null,
      "overflow": null,
      "overflow_x": null,
      "overflow_y": null,
      "padding": null,
      "right": null,
      "top": null,
      "visibility": null,
      "width": null
     }
    },
    "9daaaf3ef63b4f188c469f48f15ee73d": {
     "model_module": "@jupyter-widgets/controls",
     "model_module_version": "1.5.0",
     "model_name": "DescriptionStyleModel",
     "state": {
      "_model_module": "@jupyter-widgets/controls",
      "_model_module_version": "1.5.0",
      "_model_name": "DescriptionStyleModel",
      "_view_count": null,
      "_view_module": "@jupyter-widgets/base",
      "_view_module_version": "1.2.0",
      "_view_name": "StyleView",
      "description_width": ""
     }
    },
    "bf5f943b8013464a9d4b652dc46ef694": {
     "model_module": "@jupyter-widgets/controls",
     "model_module_version": "1.5.0",
     "model_name": "HTMLModel",
     "state": {
      "_dom_classes": [],
      "_model_module": "@jupyter-widgets/controls",
      "_model_module_version": "1.5.0",
      "_model_name": "HTMLModel",
      "_view_count": null,
      "_view_module": "@jupyter-widgets/controls",
      "_view_module_version": "1.5.0",
      "_view_name": "HTMLView",
      "description": "",
      "description_tooltip": null,
      "layout": "IPY_MODEL_766f4a1efa364b8ea02e426b39faa1da",
      "placeholder": "​",
      "style": "IPY_MODEL_c04bd6631dec4fde89a5cb1d1ff7d671",
      "value": " 533/533 [00:00&lt;00:00, 12.5kB/s]"
     }
    },
    "c04bd6631dec4fde89a5cb1d1ff7d671": {
     "model_module": "@jupyter-widgets/controls",
     "model_module_version": "1.5.0",
     "model_name": "DescriptionStyleModel",
     "state": {
      "_model_module": "@jupyter-widgets/controls",
      "_model_module_version": "1.5.0",
      "_model_name": "DescriptionStyleModel",
      "_view_count": null,
      "_view_module": "@jupyter-widgets/base",
      "_view_module_version": "1.2.0",
      "_view_name": "StyleView",
      "description_width": ""
     }
    },
    "c68276b9f10249ddabd45a595e97f8a1": {
     "model_module": "@jupyter-widgets/base",
     "model_module_version": "1.2.0",
     "model_name": "LayoutModel",
     "state": {
      "_model_module": "@jupyter-widgets/base",
      "_model_module_version": "1.2.0",
      "_model_name": "LayoutModel",
      "_view_count": null,
      "_view_module": "@jupyter-widgets/base",
      "_view_module_version": "1.2.0",
      "_view_name": "LayoutView",
      "align_content": null,
      "align_items": null,
      "align_self": null,
      "border": null,
      "bottom": null,
      "display": null,
      "flex": null,
      "flex_flow": null,
      "grid_area": null,
      "grid_auto_columns": null,
      "grid_auto_flow": null,
      "grid_auto_rows": null,
      "grid_column": null,
      "grid_gap": null,
      "grid_row": null,
      "grid_template_areas": null,
      "grid_template_columns": null,
      "grid_template_rows": null,
      "height": null,
      "justify_content": null,
      "justify_items": null,
      "left": null,
      "margin": null,
      "max_height": null,
      "max_width": null,
      "min_height": null,
      "min_width": null,
      "object_fit": null,
      "object_position": null,
      "order": null,
      "overflow": null,
      "overflow_x": null,
      "overflow_y": null,
      "padding": null,
      "right": null,
      "top": null,
      "visibility": null,
      "width": null
     }
    },
    "d4718d176f984b269a41099cdc3dcb1e": {
     "model_module": "@jupyter-widgets/controls",
     "model_module_version": "1.5.0",
     "model_name": "ProgressStyleModel",
     "state": {
      "_model_module": "@jupyter-widgets/controls",
      "_model_module_version": "1.5.0",
      "_model_name": "ProgressStyleModel",
      "_view_count": null,
      "_view_module": "@jupyter-widgets/base",
      "_view_module_version": "1.2.0",
      "_view_name": "StyleView",
      "bar_color": null,
      "description_width": ""
     }
    },
    "d8ed14626d424eeb9e497d8ba52ee3da": {
     "model_module": "@jupyter-widgets/controls",
     "model_module_version": "1.5.0",
     "model_name": "HTMLModel",
     "state": {
      "_dom_classes": [],
      "_model_module": "@jupyter-widgets/controls",
      "_model_module_version": "1.5.0",
      "_model_name": "HTMLModel",
      "_view_count": null,
      "_view_module": "@jupyter-widgets/controls",
      "_view_module_version": "1.5.0",
      "_view_name": "HTMLView",
      "description": "",
      "description_tooltip": null,
      "layout": "IPY_MODEL_c68276b9f10249ddabd45a595e97f8a1",
      "placeholder": "​",
      "style": "IPY_MODEL_47896471577a4db2819c2de864c92e69",
      "value": "Downloading (…)lve/main/config.json: 100%"
     }
    },
    "dc11938051d94e3eac9b354ef37ef7dc": {
     "model_module": "@jupyter-widgets/base",
     "model_module_version": "1.2.0",
     "model_name": "LayoutModel",
     "state": {
      "_model_module": "@jupyter-widgets/base",
      "_model_module_version": "1.2.0",
      "_model_name": "LayoutModel",
      "_view_count": null,
      "_view_module": "@jupyter-widgets/base",
      "_view_module_version": "1.2.0",
      "_view_name": "LayoutView",
      "align_content": null,
      "align_items": null,
      "align_self": null,
      "border": null,
      "bottom": null,
      "display": null,
      "flex": null,
      "flex_flow": null,
      "grid_area": null,
      "grid_auto_columns": null,
      "grid_auto_flow": null,
      "grid_auto_rows": null,
      "grid_column": null,
      "grid_gap": null,
      "grid_row": null,
      "grid_template_areas": null,
      "grid_template_columns": null,
      "grid_template_rows": null,
      "height": null,
      "justify_content": null,
      "justify_items": null,
      "left": null,
      "margin": null,
      "max_height": null,
      "max_width": null,
      "min_height": null,
      "min_width": null,
      "object_fit": null,
      "object_position": null,
      "order": null,
      "overflow": null,
      "overflow_x": null,
      "overflow_y": null,
      "padding": null,
      "right": null,
      "top": null,
      "visibility": null,
      "width": null
     }
    },
    "dc762cfab4974ea8a503f247e8bc6811": {
     "model_module": "@jupyter-widgets/base",
     "model_module_version": "1.2.0",
     "model_name": "LayoutModel",
     "state": {
      "_model_module": "@jupyter-widgets/base",
      "_model_module_version": "1.2.0",
      "_model_name": "LayoutModel",
      "_view_count": null,
      "_view_module": "@jupyter-widgets/base",
      "_view_module_version": "1.2.0",
      "_view_name": "LayoutView",
      "align_content": null,
      "align_items": null,
      "align_self": null,
      "border": null,
      "bottom": null,
      "display": null,
      "flex": null,
      "flex_flow": null,
      "grid_area": null,
      "grid_auto_columns": null,
      "grid_auto_flow": null,
      "grid_auto_rows": null,
      "grid_column": null,
      "grid_gap": null,
      "grid_row": null,
      "grid_template_areas": null,
      "grid_template_columns": null,
      "grid_template_rows": null,
      "height": null,
      "justify_content": null,
      "justify_items": null,
      "left": null,
      "margin": null,
      "max_height": null,
      "max_width": null,
      "min_height": null,
      "min_width": null,
      "object_fit": null,
      "object_position": null,
      "order": null,
      "overflow": null,
      "overflow_x": null,
      "overflow_y": null,
      "padding": null,
      "right": null,
      "top": null,
      "visibility": null,
      "width": null
     }
    },
    "e0814188de3d4069ae68bf46bb3f6609": {
     "model_module": "@jupyter-widgets/base",
     "model_module_version": "1.2.0",
     "model_name": "LayoutModel",
     "state": {
      "_model_module": "@jupyter-widgets/base",
      "_model_module_version": "1.2.0",
      "_model_name": "LayoutModel",
      "_view_count": null,
      "_view_module": "@jupyter-widgets/base",
      "_view_module_version": "1.2.0",
      "_view_name": "LayoutView",
      "align_content": null,
      "align_items": null,
      "align_self": null,
      "border": null,
      "bottom": null,
      "display": null,
      "flex": null,
      "flex_flow": null,
      "grid_area": null,
      "grid_auto_columns": null,
      "grid_auto_flow": null,
      "grid_auto_rows": null,
      "grid_column": null,
      "grid_gap": null,
      "grid_row": null,
      "grid_template_areas": null,
      "grid_template_columns": null,
      "grid_template_rows": null,
      "height": null,
      "justify_content": null,
      "justify_items": null,
      "left": null,
      "margin": null,
      "max_height": null,
      "max_width": null,
      "min_height": null,
      "min_width": null,
      "object_fit": null,
      "object_position": null,
      "order": null,
      "overflow": null,
      "overflow_x": null,
      "overflow_y": null,
      "padding": null,
      "right": null,
      "top": null,
      "visibility": null,
      "width": null
     }
    },
    "e648db5e84b0447b90d9403c2900f456": {
     "model_module": "@jupyter-widgets/controls",
     "model_module_version": "1.5.0",
     "model_name": "ProgressStyleModel",
     "state": {
      "_model_module": "@jupyter-widgets/controls",
      "_model_module_version": "1.5.0",
      "_model_name": "ProgressStyleModel",
      "_view_count": null,
      "_view_module": "@jupyter-widgets/base",
      "_view_module_version": "1.2.0",
      "_view_name": "StyleView",
      "bar_color": null,
      "description_width": ""
     }
    },
    "ee72df9cc9e14b5a90dace09b2de14e4": {
     "model_module": "@jupyter-widgets/controls",
     "model_module_version": "1.5.0",
     "model_name": "DescriptionStyleModel",
     "state": {
      "_model_module": "@jupyter-widgets/controls",
      "_model_module_version": "1.5.0",
      "_model_name": "DescriptionStyleModel",
      "_view_count": null,
      "_view_module": "@jupyter-widgets/base",
      "_view_module_version": "1.2.0",
      "_view_name": "StyleView",
      "description_width": ""
     }
    },
    "ef53794a859c44c194bddc66ac07467b": {
     "model_module": "@jupyter-widgets/base",
     "model_module_version": "1.2.0",
     "model_name": "LayoutModel",
     "state": {
      "_model_module": "@jupyter-widgets/base",
      "_model_module_version": "1.2.0",
      "_model_name": "LayoutModel",
      "_view_count": null,
      "_view_module": "@jupyter-widgets/base",
      "_view_module_version": "1.2.0",
      "_view_name": "LayoutView",
      "align_content": null,
      "align_items": null,
      "align_self": null,
      "border": null,
      "bottom": null,
      "display": null,
      "flex": null,
      "flex_flow": null,
      "grid_area": null,
      "grid_auto_columns": null,
      "grid_auto_flow": null,
      "grid_auto_rows": null,
      "grid_column": null,
      "grid_gap": null,
      "grid_row": null,
      "grid_template_areas": null,
      "grid_template_columns": null,
      "grid_template_rows": null,
      "height": null,
      "justify_content": null,
      "justify_items": null,
      "left": null,
      "margin": null,
      "max_height": null,
      "max_width": null,
      "min_height": null,
      "min_width": null,
      "object_fit": null,
      "object_position": null,
      "order": null,
      "overflow": null,
      "overflow_x": null,
      "overflow_y": null,
      "padding": null,
      "right": null,
      "top": null,
      "visibility": null,
      "width": null
     }
    }
   }
  }
 },
 "nbformat": 4,
 "nbformat_minor": 1
}
